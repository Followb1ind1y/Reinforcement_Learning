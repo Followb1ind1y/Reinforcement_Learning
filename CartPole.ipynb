{
  "nbformat": 4,
  "nbformat_minor": 0,
  "metadata": {
    "colab": {
      "provenance": [],
      "collapsed_sections": []
    },
    "kernelspec": {
      "name": "python3",
      "display_name": "Python 3"
    },
    "accelerator": "GPU"
  },
  "cells": [
    {
      "cell_type": "markdown",
      "source": [
        "## **Reinforcement Learning: Cart Pole**"
      ],
      "metadata": {
        "id": "R8PbIgE4tSUu"
      }
    },
    {
      "cell_type": "code",
      "metadata": {
        "id": "1XDvssQd64Pf"
      },
      "source": [
        "!apt-get install -y xvfb python-opengl > /dev/null 2>&1"
      ],
      "execution_count": null,
      "outputs": []
    },
    {
      "cell_type": "code",
      "metadata": {
        "id": "F5esgX013vPe"
      },
      "source": [
        "!pip install gym pyvirtualdisplay > /dev/null 2>&1"
      ],
      "execution_count": null,
      "outputs": []
    },
    {
      "cell_type": "code",
      "metadata": {
        "id": "Qbi2xaFo31Sj"
      },
      "source": [
        "import gym\n",
        "import numpy as np\n",
        "import matplotlib.pyplot as plt\n",
        "from IPython import display as ipythondisplay\n",
        "from collections import defaultdict\n",
        "import math"
      ],
      "execution_count": null,
      "outputs": []
    },
    {
      "cell_type": "code",
      "metadata": {
        "id": "FGqXqJxoAsHG",
        "colab": {
          "base_uri": "https://localhost:8080/"
        },
        "outputId": "0e7c8c49-08fa-4dae-991d-60494d705387"
      },
      "source": [
        "from pyvirtualdisplay import Display\n",
        "display = Display(visible=0, size=(400, 300))\n",
        "display.start()"
      ],
      "execution_count": null,
      "outputs": [
        {
          "output_type": "execute_result",
          "data": {
            "text/plain": [
              "<pyvirtualdisplay.display.Display at 0x7f9b272f4e10>"
            ]
          },
          "metadata": {},
          "execution_count": 4
        }
      ]
    },
    {
      "cell_type": "code",
      "metadata": {
        "id": "6L4YayzR4FYj",
        "colab": {
          "base_uri": "https://localhost:8080/",
          "height": 286
        },
        "outputId": "c86b44a0-274a-4f93-ae36-314bffff0b64"
      },
      "source": [
        "env = gym.make(\"CartPole-v0\")\n",
        "env.reset()\n",
        "prev_screen = env.render(mode='rgb_array')\n",
        "plt.imshow(prev_screen)\n",
        "\n",
        "for i in range(50000):\n",
        "  action = env.action_space.sample()\n",
        "  print(\"step i\",i,\"action=\",action)\n",
        "  obs, reward, done, info = env.step(action)\n",
        "  print(\"obs=\",obs,\"reward=\",reward,\"done=\",done,\"info=\",info)\n",
        "  screen = env.render(mode='rgb_array')\n",
        "  \n",
        "  plt.imshow(screen)\n",
        "  ipythondisplay.clear_output(wait=True)\n",
        "  ipythondisplay.display(plt.gcf())\n",
        "\n",
        "  if done:\n",
        "    break\n",
        "    \n",
        "ipythondisplay.clear_output(wait=True)\n",
        "env.close()\n",
        "print(\"Iterations that were run:\",i)"
      ],
      "execution_count": null,
      "outputs": [
        {
          "output_type": "stream",
          "name": "stdout",
          "text": [
            "Iterations that were run: 16\n"
          ]
        },
        {
          "output_type": "display_data",
          "data": {
            "image/png": "[encoded data removed]",
            "text/plain": [
              "<Figure size 432x288 with 1 Axes>"
            ]
          },
          "metadata": {
            "needs_background": "light"
          }
        }
      ]
    },
    {
      "cell_type": "code",
      "metadata": {
        "colab": {
          "base_uri": "https://localhost:8080/"
        },
        "id": "MhrYSj5dgV9t",
        "outputId": "a5527df4-3a67-4400-8569-2c7f694d0f18"
      },
      "source": [
        "stateSpaceSize = env.observation_space\n",
        "print(stateSpaceSize)"
      ],
      "execution_count": null,
      "outputs": [
        {
          "output_type": "stream",
          "name": "stdout",
          "text": [
            "Box(-3.4028234663852886e+38, 3.4028234663852886e+38, (4,), float32)\n"
          ]
        }
      ]
    },
    {
      "cell_type": "code",
      "metadata": {
        "colab": {
          "base_uri": "https://localhost:8080/"
        },
        "id": "x_Jmup6CgWM_",
        "outputId": "254bfa48-f986-4e53-8144-e33bc8c34249"
      },
      "source": [
        "actionSpaceSize = env.action_space.n\n",
        "print(actionSpaceSize)"
      ],
      "execution_count": null,
      "outputs": [
        {
          "output_type": "stream",
          "name": "stdout",
          "text": [
            "2\n"
          ]
        }
      ]
    },
    {
      "cell_type": "code",
      "metadata": {
        "colab": {
          "base_uri": "https://localhost:8080/"
        },
        "id": "LD6C6uLHo3rM",
        "outputId": "005de6aa-8692-4fd6-8c60-614e2d4f4d04"
      },
      "source": [
        "env.reset()\n",
        "action = env.action_space.sample()\n",
        "obs, reward, done, info = env.step(action)\n",
        "print(\"obs=\",obs,\"reward=\",reward,\"done=\",done,\"info=\",info)"
      ],
      "execution_count": null,
      "outputs": [
        {
          "output_type": "stream",
          "name": "stdout",
          "text": [
            "obs= [ 0.00400527 -0.15579706 -0.02907732  0.27265893] reward= 1.0 done= False info= {}\n"
          ]
        }
      ]
    },
    {
      "cell_type": "code",
      "metadata": {
        "id": "4k4CvTAUh7v1"
      },
      "source": [
        "def round_state(state) :\n",
        "  for i in range(len(state)) :\n",
        "    state[i] = round(state[i],1)\n",
        "  return state"
      ],
      "execution_count": null,
      "outputs": []
    },
    {
      "cell_type": "code",
      "metadata": {
        "colab": {
          "base_uri": "https://localhost:8080/"
        },
        "id": "cQnS2JO5rRoW",
        "outputId": "6a335a8e-4e48-4e2d-ee75-ce8c49328e8a"
      },
      "source": [
        "env.reset()\n",
        "action = env.action_space.sample()\n",
        "obs, reward, done, info = env.step(action)\n",
        "state = tuple(round_state(obs))\n",
        "Q = defaultdict(lambda: np.zeros(actionSpaceSize))\n",
        "Q[state][action] = 1\n",
        "Q"
      ],
      "execution_count": null,
      "outputs": [
        {
          "output_type": "execute_result",
          "data": {
            "text/plain": [
              "defaultdict(<function __main__.<lambda>>,\n",
              "            {(-0.0, -0.1, 0.0, 0.3): array([1., 0.])})"
            ]
          },
          "metadata": {},
          "execution_count": 10
        }
      ]
    },
    {
      "cell_type": "code",
      "metadata": {
        "colab": {
          "base_uri": "https://localhost:8080/"
        },
        "id": "jLqkWeaymYKD",
        "outputId": "33b58edc-cbad-4a2e-ce34-f3ab5e8d08db"
      },
      "source": [
        "env = gym.make(\"CartPole-v0\")\n",
        "env.reset()\n",
        "avg_iter = 0\n",
        "\n",
        "for k in range(100) :\n",
        "  env.reset()\n",
        "  for i in range(10000):\n",
        "    action = env.action_space.sample()\n",
        "    obs, reward, done, info = env.step(action)\n",
        "    if done:\n",
        "      avg_iter = avg_iter + i\n",
        "      break\n",
        "  \n",
        "  env.close()\n",
        "\n",
        "avg_iter = avg_iter / 100\n",
        "print(\"Average iterations that were run:\",avg_iter)"
      ],
      "execution_count": null,
      "outputs": [
        {
          "output_type": "stream",
          "name": "stdout",
          "text": [
            "Average iterations that were run: 20.84\n"
          ]
        }
      ]
    },
    {
      "cell_type": "code",
      "metadata": {
        "id": "2Mq8IaL15o8G"
      },
      "source": [
        "def generate_episode(env,episode) :\n",
        "  state = env.reset()\n",
        "  state = tuple(round_state(state))\n",
        "  action = np.random.choice(np.arange(actionSpaceSize))\n",
        "  for i in range(50000):\n",
        "    next_state, reward, done, info = env.step(action)\n",
        "    next_state = tuple(round_state(next_state))\n",
        "    next_action = np.random.choice(np.arange(actionSpaceSize))\n",
        "\n",
        "    episode.append((state, action, reward))\n",
        "    state = next_state\n",
        "    action = next_action\n",
        "    if done:\n",
        "      break"
      ],
      "execution_count": null,
      "outputs": []
    },
    {
      "cell_type": "code",
      "metadata": {
        "id": "89z5aPxNkey1"
      },
      "source": [
        "def test_MC(Q) :\n",
        "  env = gym.make(\"CartPole-v0\")\n",
        "  env.reset()\n",
        "  avg_iter = 0\n",
        "\n",
        "  for k in range(100) :\n",
        "    state = env.reset()\n",
        "    state = tuple(round_state(state))\n",
        "\n",
        "    for i in range(10000):\n",
        "      action = np.argmax(Q[state])\n",
        "      obs, reward, done, info = env.step(action)\n",
        "      next_state = tuple(round_state(obs))\n",
        "      state = next_state\n",
        "  \n",
        "      if done:\n",
        "         break\n",
        "  \n",
        "    env.close()\n",
        "    avg_iter = avg_iter + i\n",
        "\n",
        "  avg_iter = avg_iter / 100\n",
        "  #print(\"Average iterations that were run:\",avg_iter)\n",
        "  return avg_iter"
      ],
      "execution_count": null,
      "outputs": []
    },
    {
      "cell_type": "code",
      "metadata": {
        "id": "rbocGuzQgYWx"
      },
      "source": [
        "def off_MC_control(env, max_episodes,gamma):\n",
        "  ## initial Q, C\n",
        "  Q = defaultdict(lambda: np.zeros(actionSpaceSize))\n",
        "  C = defaultdict(lambda: np.zeros(actionSpaceSize))\n",
        "\n",
        "  ## Loop forever\n",
        "  for eps in range(max_episodes+1) :\n",
        "    # for any soft policy\n",
        "    b = np.ones(actionSpaceSize) / actionSpaceSize\n",
        "    # generate an episode, where T = 500\n",
        "    episode = []\n",
        "    generate_episode(env,episode)\n",
        "\n",
        "    G = 0\n",
        "    W = 1\n",
        "\n",
        "    # loop for each episode, t = T-1,T-2,...,0\n",
        "    for t in range(len(episode)-1, -1, -1):\n",
        "      state, action, reward = episode[t]\n",
        "      G = gamma * G + reward # gamma * G + R_{t+1}\n",
        "      C[state][action] = C[state][action] + W  # C + W\n",
        "      Q[state][action] = Q[state][action] + (G-Q[state][action])*(W/C[state][action])\n",
        "      pi_S_t = np.argmax(Q[state])\n",
        "      # exit inner loop to next episode\n",
        "      if action !=  pi_S_t:\n",
        "        break\n",
        "      W = W * 1./b[action]\n",
        "    \n",
        "    if eps % 2000 == 0:\n",
        "      avg_iter = test_MC(Q)\n",
        "      print(\"For episode\",eps,\"Average is\",avg_iter)\n",
        "\n",
        "  return Q"
      ],
      "execution_count": null,
      "outputs": []
    },
    {
      "cell_type": "code",
      "metadata": {
        "colab": {
          "base_uri": "https://localhost:8080/"
        },
        "id": "6LHAcV7TvW8z",
        "outputId": "e60e2282-eef8-402b-c1d5-b59891966ed2"
      },
      "source": [
        "Q = off_MC_control(env, 20000, 1)"
      ],
      "execution_count": null,
      "outputs": [
        {
          "output_type": "stream",
          "name": "stdout",
          "text": [
            "For episode 0 Average is 36.1\n",
            "For episode 2000 Average is 81.34\n",
            "For episode 4000 Average is 63.94\n",
            "For episode 6000 Average is 90.9\n",
            "For episode 8000 Average is 64.54\n",
            "For episode 10000 Average is 90.72\n",
            "For episode 12000 Average is 96.5\n",
            "For episode 14000 Average is 97.98\n",
            "For episode 16000 Average is 87.8\n",
            "For episode 18000 Average is 94.96\n",
            "For episode 20000 Average is 104.34\n"
          ]
        }
      ]
    }
  ]
}