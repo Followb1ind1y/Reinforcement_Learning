{
  "nbformat": 4,
  "nbformat_minor": 0,
  "metadata": {
    "colab": {
      "provenance": [],
      "collapsed_sections": []
    },
    "kernelspec": {
      "name": "python3",
      "display_name": "Python 3"
    },
    "language_info": {
      "name": "python"
    },
    "accelerator": "GPU",
    "gpuClass": "standard"
  },
  "cells": [
    {
      "cell_type": "markdown",
      "source": [
        "## **Reinforcement Learning: Function Approx and SARSA control**\n"
      ],
      "metadata": {
        "id": "gnkgL6tMtgDq"
      }
    },
    {
      "cell_type": "code",
      "execution_count": null,
      "metadata": {
        "id": "ZizbRiIQtXYn"
      },
      "outputs": [],
      "source": [
        "!apt-get install -y xvfb python-opengl > /dev/null 2>&1"
      ]
    },
    {
      "cell_type": "code",
      "source": [
        "!pip install gym pyvirtualdisplay > /dev/null 2>&1"
      ],
      "metadata": {
        "id": "X6-eZ2Zpt0tg"
      },
      "execution_count": null,
      "outputs": []
    },
    {
      "cell_type": "code",
      "source": [
        "import gym\n",
        "import numpy as np\n",
        "import matplotlib.pyplot as plt\n",
        "from IPython import display as ipythondisplay\n",
        "from collections import defaultdict\n",
        "import math\n",
        "import random"
      ],
      "metadata": {
        "id": "DHnyDfeWt2Ba"
      },
      "execution_count": null,
      "outputs": []
    },
    {
      "cell_type": "code",
      "source": [
        "from pyvirtualdisplay import Display\n",
        "display = Display(visible=0, size=(400, 300))\n",
        "display.start()"
      ],
      "metadata": {
        "colab": {
          "base_uri": "https://localhost:8080/"
        },
        "id": "K_eTa2Met3WB",
        "outputId": "fdb47da9-fe6f-4713-a1f1-941489470037"
      },
      "execution_count": null,
      "outputs": [
        {
          "output_type": "execute_result",
          "data": {
            "text/plain": [
              "<pyvirtualdisplay.display.Display at 0x7f8f0ed9bdd0>"
            ]
          },
          "metadata": {},
          "execution_count": 4
        }
      ]
    },
    {
      "cell_type": "code",
      "source": [
        "env = gym.make('MountainCar-v0')"
      ],
      "metadata": {
        "id": "0qNcYdEwt4ns"
      },
      "execution_count": null,
      "outputs": []
    },
    {
      "cell_type": "code",
      "source": [
        "# StateSpace : {Car Position, Car Velocity}\n",
        "stateSpaceSize = env.observation_space\n",
        "print(stateSpaceSize)"
      ],
      "metadata": {
        "colab": {
          "base_uri": "https://localhost:8080/"
        },
        "id": "KNpWit-0t6HY",
        "outputId": "b7f6bd33-0383-4b94-81d4-fa7c5dd886f6"
      },
      "execution_count": null,
      "outputs": [
        {
          "output_type": "stream",
          "name": "stdout",
          "text": [
            "Box(-1.2000000476837158, 0.6000000238418579, (2,), float32)\n"
          ]
        }
      ]
    },
    {
      "cell_type": "code",
      "source": [
        "# ActionSpace: {0: Left, 1: Stop, 2: Right}\n",
        "actionSpaceSize = env.action_space.n\n",
        "print(actionSpaceSize)"
      ],
      "metadata": {
        "colab": {
          "base_uri": "https://localhost:8080/"
        },
        "id": "kBY5eCIJt8jE",
        "outputId": "6e1518cc-8486-44f4-fad2-f940626bd1ed"
      },
      "execution_count": null,
      "outputs": [
        {
          "output_type": "stream",
          "name": "stdout",
          "text": [
            "3\n"
          ]
        }
      ]
    },
    {
      "cell_type": "code",
      "source": [
        "# Round State 0 to [-1.2, -1.1, ..., 0.5, 0.6] -> 19\n",
        "# Round State 1 to [-0.07, -0.06, ..., 0.06, 0.07] -> 15\n",
        "\n",
        "def round_state(state) :\n",
        "  state[0] = round(state[0],1)\n",
        "  state[1] = round(state[1],2)\n",
        "  return state"
      ],
      "metadata": {
        "id": "hrd3DLb1t90Z"
      },
      "execution_count": null,
      "outputs": []
    },
    {
      "cell_type": "code",
      "source": [
        "# Uniformly initial the Q for all the States\n",
        "\n",
        "def initial_Q(Q):\n",
        "  current_state_zero = -1.2\n",
        "  for i in range (19) :\n",
        "    current_state_one = -0.07\n",
        "    for k in range (15) :\n",
        "      Q[(round(current_state_zero,1),round(current_state_one,2))] = np.random.uniform(-1,1,3)\n",
        "      current_state_one += 0.01\n",
        "    current_state_zero += 0.1\n",
        "  return Q"
      ],
      "metadata": {
        "id": "S0RIEer5uIWs"
      },
      "execution_count": null,
      "outputs": []
    },
    {
      "cell_type": "code",
      "source": [
        "env.reset()\n",
        "action = env.action_space.sample()\n",
        "obs, reward, done, info = env.step(action)\n",
        "print(\"obs=\",obs,\"reward=\",reward,\"done=\",done,\"info=\",info)\n",
        "\n",
        "state = tuple(round_state(obs))\n",
        "Q = defaultdict(lambda: np.zeros(actionSpaceSize))\n",
        "Q[state][action] = 1\n",
        "Q"
      ],
      "metadata": {
        "colab": {
          "base_uri": "https://localhost:8080/"
        },
        "id": "JecZXTT7t_uu",
        "outputId": "a8ea8285-919b-4cd0-d740-b209ab5016fe"
      },
      "execution_count": null,
      "outputs": [
        {
          "output_type": "stream",
          "name": "stdout",
          "text": [
            "obs= [-0.4082256  -0.00186124] reward= -1.0 done= False info= {}\n"
          ]
        },
        {
          "output_type": "execute_result",
          "data": {
            "text/plain": [
              "defaultdict(<function __main__.<lambda>>, {(-0.4, -0.0): array([1., 0., 0.])})"
            ]
          },
          "metadata": {},
          "execution_count": 10
        }
      ]
    },
    {
      "cell_type": "code",
      "source": [
        "env = gym.make('MountainCar-v0')\n",
        "env.reset()\n",
        "sum_reward = 0\n",
        "\n",
        "for i in range(200):\n",
        "  action = env.action_space.sample()\n",
        "  # print(\"step i\",i,\"action=\",action)\n",
        "  obs, reward, done, info = env.step(action)\n",
        "  # print(\"obs=\",obs,\"reward=\",reward,\"done=\",done,\"info=\",info)\n",
        "  sum_reward += reward\n",
        "\n",
        "  if done:\n",
        "    break\n",
        "    \n",
        "env.close()\n",
        "print(\"Iterations that were run:\",i, \"Sum Reward is\", sum_reward)"
      ],
      "metadata": {
        "colab": {
          "base_uri": "https://localhost:8080/"
        },
        "id": "XUbq1ICzuBEV",
        "outputId": "18efa012-963c-4e31-cab3-41507a0e16b4"
      },
      "execution_count": null,
      "outputs": [
        {
          "output_type": "stream",
          "name": "stdout",
          "text": [
            "Iterations that were run: 199 Sum Reward is -200.0\n"
          ]
        }
      ]
    },
    {
      "cell_type": "markdown",
      "source": [
        "## **n-Step SARSA**"
      ],
      "metadata": {
        "id": "cw1mrPQv3IgS"
      }
    },
    {
      "cell_type": "code",
      "source": [
        "def n_step_Sarsa(env, max_episodes, alpha, gamma, epsilon, n):\n",
        "  ## initial Q\n",
        "  Q = initial_Q({})\n",
        "  total_sum_reward = 0\n",
        "  sum_reward = 0\n",
        "  avg_reward = []\n",
        "\n",
        "  ## Loop for each episode\n",
        "  for e in range(max_episodes) :\n",
        "\n",
        "    state_list = []\n",
        "    action_list = []\n",
        "    reward_list = []\n",
        "\n",
        "    ## Initial the State 0\n",
        "    state = env.reset()\n",
        "    state = tuple(round_state(state))\n",
        "    state_list.append(state)\n",
        "    reward_list.append(-1)\n",
        "\n",
        "    ## Update the epsilon, we tend to explore at the beginning \n",
        "    ## We reduce the epsilon to take the best action to explore more\n",
        "    current_epsilon = epsilon * (1 - e/max_episodes)\n",
        "\n",
        "    ## Choose A from S using epsilon greedy policy\n",
        "    rand = rand = random.random()\n",
        "    if rand < 1-current_epsilon: \n",
        "      action = np.argmax(Q[state])\n",
        "    else:\n",
        "      action = np.random.choice(np.arange(actionSpaceSize))\n",
        "    \n",
        "    action_list.append(action)\n",
        "    T = math.inf\n",
        "\n",
        "    for t in range(199):\n",
        "      if t < T:\n",
        "        action = action_list[t]\n",
        "        next_state, reward, done, info = env.step(action)\n",
        "        next_state = tuple(round_state(next_state))\n",
        "\n",
        "        state_list.append(next_state)\n",
        "        reward_list.append(reward)\n",
        "\n",
        "        if done: T = t+1\n",
        "        else: \n",
        "          ## Choose A' from S' using epsilon greedy policy\n",
        "          rand = rand = random.random()\n",
        "          if rand < 1-current_epsilon: \n",
        "            next_action = np.argmax(Q[next_state])\n",
        "          else:\n",
        "            next_action = np.random.choice(np.arange(actionSpaceSize))\n",
        "\n",
        "          action_list.append(next_action)\n",
        "\n",
        "      tau = t - n + 1\n",
        "\n",
        "      if tau >=0:\n",
        "        G = 0\n",
        "        for i in range(int(np.min([T, tau+n])-(tau+1)+1)):\n",
        "          G+= gamma**(i)*reward_list[tau+1+i]\n",
        "        if tau+n < T: \n",
        "          G+=gamma**(n)* Q[state_list[tau+n]][action_list[tau+n]]\n",
        "        Q[state_list[tau]][action_list[tau]]+=alpha*(G-Q[state_list[tau]][action_list[tau]])\n",
        "      \n",
        "      sum_reward += reward\n",
        "      total_sum_reward += reward\n",
        "      \n",
        "      if tau == T-1: break\n",
        "\n",
        "    if (e+1) % 100 == 0:\n",
        "      avg = sum_reward/100\n",
        "      #print(\"For episode\",e+1,\"Average Reward:\", avg)\n",
        "      avg_reward.append(avg)\n",
        "      sum_reward = 0\n",
        "  \n",
        "  l = np.arange(100, max_episodes+1, 100).tolist()\n",
        "  plt.plot(l,avg_reward)\n",
        "  plt.xlabel(\"Episodes\")\n",
        "  plt.ylabel(\"Average Reward\")\n",
        "\n",
        "  print(\"Max Average Reward is\", np.max(avg_reward), \"Total Average Reward is\", total_sum_reward/max_episodes)\n",
        "\n",
        "  return Q"
      ],
      "metadata": {
        "id": "FSxcTBd2tyIs"
      },
      "execution_count": null,
      "outputs": []
    },
    {
      "cell_type": "code",
      "source": [
        "Q = n_step_Sarsa(env, 10000, 0.2, 0.9, 0.8,4)"
      ],
      "metadata": {
        "colab": {
          "base_uri": "https://localhost:8080/",
          "height": 297
        },
        "id": "KBydE_ibt001",
        "outputId": "d560f798-1294-4848-f561-8da567ffe86e"
      },
      "execution_count": null,
      "outputs": [
        {
          "output_type": "stream",
          "name": "stdout",
          "text": [
            "Max Average Reward is -156.62 Total Average Reward is -195.0887\n"
          ]
        },
        {
          "output_type": "display_data",
          "data": {
            "text/plain": [
              "<Figure size 432x288 with 1 Axes>"
            ],
            "image/png": "[encoded data removed]"
          },
          "metadata": {
            "needs_background": "light"
          }
        }
      ]
    },
    {
      "cell_type": "code",
      "source": [
        "import numpy as np\n",
        "import tensorflow as tf\n",
        "import keras\n",
        "from keras.models import Sequential\n",
        "from keras.layers import Dense\n",
        "from sklearn.metrics import mean_squared_error"
      ],
      "metadata": {
        "id": "7KH8EOg33ucJ"
      },
      "execution_count": null,
      "outputs": []
    },
    {
      "cell_type": "code",
      "source": [
        "def Neural_Network(hidden=64, p_inputSpace =1, p_outputSpace=1):\n",
        "  model=Sequential()\n",
        "  model.add(Dense(hidden,input_shape=(p_inputSpace,), activation=\"relu\"))\n",
        "  model.add(Dense(hidden, activation=\"relu\"))\n",
        "  model.add(Dense(p_outputSpace, activation=\"linear\"))\n",
        "  return model\n",
        "\n",
        "model = Neural_Network()\n",
        "model.summary()\n",
        "model.compile(loss=\"mse\", optimizer=tf.keras.optimizers.Adam(learning_rate=0.001))"
      ],
      "metadata": {
        "colab": {
          "base_uri": "https://localhost:8080/"
        },
        "id": "YpUe4QT83sD9",
        "outputId": "75694b7f-e3e6-463f-9eee-98010ba2ae01"
      },
      "execution_count": null,
      "outputs": [
        {
          "output_type": "stream",
          "name": "stdout",
          "text": [
            "Model: \"sequential_4\"\n",
            "_________________________________________________________________\n",
            " Layer (type)                Output Shape              Param #   \n",
            "=================================================================\n",
            " dense_12 (Dense)            (None, 64)                128       \n",
            "                                                                 \n",
            " dense_13 (Dense)            (None, 64)                4160      \n",
            "                                                                 \n",
            " dense_14 (Dense)            (None, 1)                 65        \n",
            "                                                                 \n",
            "=================================================================\n",
            "Total params: 4,353\n",
            "Trainable params: 4,353\n",
            "Non-trainable params: 0\n",
            "_________________________________________________________________\n"
          ]
        }
      ]
    },
    {
      "cell_type": "code",
      "source": [
        "# optimizer and per-prediction error\n",
        "alpha = 0.001\n",
        "optimizer=tf.keras.optimizers.SGD(learning_rate=alpha)\n",
        "f_ppError = keras.losses.MeanSquaredError()"
      ],
      "metadata": {
        "id": "adL0S_QV4lS-"
      },
      "execution_count": null,
      "outputs": []
    },
    {
      "cell_type": "code",
      "source": [
        "# training data (plotted at the end of this file)\n",
        "train = np.array([[-2,-10], [-1,-5], [0, 0], [1,5], [2,10]])\n",
        "x_train = train[:,0]\n",
        "y_train = train[:,1]\n",
        "# for stochastic gradient descent, create batches\n",
        "batch_size = 1\n",
        "train_dataset = tf.data.Dataset.from_tensor_slices((x_train, y_train))\n",
        "train_dataset = train_dataset.shuffle(buffer_size=1024).batch(batch_size)\n",
        "\n",
        "epochs = 40\n",
        "for epoch in range(epochs):\n",
        "  #print(\"\\nStart of epoch %d\" % (epoch,))\n",
        "  for step, (x_batch_train,y_batch_train) in enumerate(train_dataset):\n",
        "    with tf.GradientTape() as tape:\n",
        "      predictions = model(x_batch_train,training=True)\n",
        "      ppError = f_ppError(y_batch_train,predictions)\n",
        "    grads = tape.gradient(ppError,model.trainable_weights)\n",
        "    optimizer.apply_gradients(zip(grads, model.trainable_weights))\n",
        "    print(\"Error: %f\" % float(ppError))"
      ],
      "metadata": {
        "id": "iJBWtzZG4Wz-"
      },
      "execution_count": null,
      "outputs": []
    },
    {
      "cell_type": "code",
      "source": [
        "D=np.arange(-2,2,.1)\n",
        "R=model.predict(D)\n",
        "from matplotlib import pyplot as plt\n",
        "plt.plot(x_train,y_train,'gx',D,R,'r-')"
      ],
      "metadata": {
        "colab": {
          "base_uri": "https://localhost:8080/",
          "height": 301
        },
        "id": "Q7h0OH3N4pwe",
        "outputId": "21ec31d8-bd64-4593-d8e6-10f62bb6595f"
      },
      "execution_count": null,
      "outputs": [
        {
          "output_type": "execute_result",
          "data": {
            "text/plain": [
              "[<matplotlib.lines.Line2D at 0x7f8e14351410>,\n",
              " <matplotlib.lines.Line2D at 0x7f8e142e0c90>]"
            ]
          },
          "metadata": {},
          "execution_count": 25
        },
        {
          "output_type": "display_data",
          "data": {
            "text/plain": [
              "<Figure size 432x288 with 1 Axes>"
            ],
            "image/png": "[encoded data removed]"
          },
          "metadata": {
            "needs_background": "light"
          }
        }
      ]
    },
    {
      "cell_type": "code",
      "source": [
        "import numpy as np\n",
        "import tensorflow as tf\n",
        "import keras\n",
        "from keras.models import Sequential\n",
        "from keras.layers import Dense\n",
        "from sklearn.metrics import mean_squared_error"
      ],
      "metadata": {
        "id": "_qQ8NzHmFsl1"
      },
      "execution_count": null,
      "outputs": []
    },
    {
      "cell_type": "code",
      "source": [
        "## Input dimension \n",
        "p_inputSpace = env.observation_space.shape[0]\n",
        "## Output dimension\n",
        "p_outputSpace = env.action_space.n\n",
        "print(\"Input:\", p_inputSpace, \"Output:\", p_outputSpace)"
      ],
      "metadata": {
        "colab": {
          "base_uri": "https://localhost:8080/"
        },
        "id": "YumCRPfncq6C",
        "outputId": "1d8a13bc-5cd4-495d-cfcd-9944467a2f7b"
      },
      "execution_count": null,
      "outputs": [
        {
          "output_type": "stream",
          "name": "stdout",
          "text": [
            "Input: 2 Output: 3\n"
          ]
        }
      ]
    },
    {
      "cell_type": "code",
      "source": [
        "def Neural_Network(hidden=64, p_inputSpace =2, p_outputSpace=3):\n",
        "  model=Sequential()\n",
        "  model.add(Dense(hidden,input_shape=(p_inputSpace,), activation=\"relu\"))\n",
        "  model.add(Dense(hidden, activation=\"relu\"))\n",
        "  model.add(Dense(p_outputSpace, activation=\"linear\"))\n",
        "  return model\n",
        "\n",
        "model = Neural_Network()\n",
        "model.summary()\n",
        "model.compile(loss=\"mse\", optimizer=tf.keras.optimizers.Adam(learning_rate=0.001))"
      ],
      "metadata": {
        "colab": {
          "base_uri": "https://localhost:8080/"
        },
        "id": "ThQ-MvRBFqft",
        "outputId": "f52e771d-70a1-44a1-9a19-c29e75175c8e"
      },
      "execution_count": null,
      "outputs": [
        {
          "output_type": "stream",
          "name": "stdout",
          "text": [
            "Model: \"sequential_5\"\n",
            "_________________________________________________________________\n",
            " Layer (type)                Output Shape              Param #   \n",
            "=================================================================\n",
            " dense_15 (Dense)            (None, 64)                192       \n",
            "                                                                 \n",
            " dense_16 (Dense)            (None, 64)                4160      \n",
            "                                                                 \n",
            " dense_17 (Dense)            (None, 3)                 195       \n",
            "                                                                 \n",
            "=================================================================\n",
            "Total params: 4,547\n",
            "Trainable params: 4,547\n",
            "Non-trainable params: 0\n",
            "_________________________________________________________________\n"
          ]
        }
      ]
    },
    {
      "cell_type": "code",
      "source": [
        "state = env.reset()\n",
        "model = Neural_Network(64,2,3)\n",
        "#model.summary()\n",
        "model.compile(loss=\"mse\", optimizer=tf.keras.optimizers.Adam(learning_rate=0.001))\n",
        "state = tf.convert_to_tensor([state])\n",
        "action = np.argmax(model(state))\n",
        "q_value = model(state)\n",
        "mask = tf.one_hot(action, actionSpaceSize)\n",
        "#tf.convert_to_tensor([model(state.reshape((1, 2))).numpy()[0][1]])\n",
        "#model(np.array(x_train))\n",
        "tf.reduce_sum(tf.multiply(q_value, mask), axis=1)\n",
        "tf.reduce_max(q_value, axis=1)"
      ],
      "metadata": {
        "colab": {
          "base_uri": "https://localhost:8080/"
        },
        "id": "-gc1e60wk6s5",
        "outputId": "da7f7a20-3d7f-4614-9ced-a0cd8111f28d"
      },
      "execution_count": null,
      "outputs": [
        {
          "output_type": "execute_result",
          "data": {
            "text/plain": [
              "<tf.Tensor: shape=(1,), dtype=float32, numpy=array([0.00960813], dtype=float32)>"
            ]
          },
          "metadata": {},
          "execution_count": 61
        }
      ]
    },
    {
      "cell_type": "code",
      "source": [
        "def Semi_Gradient_On_Policy_Sarsa(env, max_episodes, alpha, gamma, epsilon):\n",
        "\n",
        "  sum_reward = 0\n",
        "  total_sum_reward = 0\n",
        "  avg_reward = []\n",
        "\n",
        "  # optimizer and per-prediction error\n",
        "  optimizer=tf.keras.optimizers.SGD(learning_rate=alpha)\n",
        "  f_ppError = keras.losses.MeanSquaredError()\n",
        "\n",
        "  model = Neural_Network(64,p_inputSpace,p_outputSpace)\n",
        "  model.compile(loss=\"mse\", optimizer=optimizer)\n",
        "\n",
        "  ## < ----------  Loop for each step of episode:  ---------- > \n",
        "  for e in range(max_episodes) :\n",
        "\n",
        "    ## < ----------  Initial State  ---------- > \n",
        "    state = env.reset()\n",
        "    state = tuple(round_state(state))\n",
        "    state = tf.convert_to_tensor([state])\n",
        "\n",
        "    ## Update the epsilon, we tend to explore at the beginning \n",
        "    ## We reduce the epsilon to take the best action to explore more\n",
        "    current_epsilon = epsilon * (1 - e/max_episodes)\n",
        "\n",
        "    ## < ----------  Choose A from S using epsilon greedy policy   ---------- > \n",
        "    rand = rand = random.random()\n",
        "    if rand < 1-current_epsilon: \n",
        "      action = np.argmax(model(state))\n",
        "    else:\n",
        "      action = np.random.choice(np.arange(actionSpaceSize))\n",
        "\n",
        "    ## < ----------  Loop for each step of episode:  ---------- > \n",
        "    for i in range(200):\n",
        "\n",
        "      ## < ----------  Take action A and observe R, S'  ---------- > \n",
        "      next_state, reward, done, info = env.step(action)\n",
        "\n",
        "      reward = tf.convert_to_tensor([reward])\n",
        "      next_state = tuple(round_state(next_state))\n",
        "      next_state = tf.convert_to_tensor([next_state])\n",
        "      done = tf.convert_to_tensor(done)\n",
        "\n",
        "      ## < ----------  If S' is terminal  ---------- > \n",
        "      if done:\n",
        "        target_q = reward\n",
        "        action_mask = tf.one_hot(action, actionSpaceSize)\n",
        "        with tf.GradientTape() as tape:\n",
        "          tape.watch(model.trainable_variables)\n",
        "          q_value = model(state)\n",
        "          q_value_mask = tf.reduce_sum(tf.multiply(q_value, action_mask), axis=1)\n",
        "          ppError = f_ppError(target_q,q_value_mask)\n",
        "\n",
        "        grads = tape.gradient(ppError,model.trainable_variables)\n",
        "        optimizer.apply_gradients(zip(grads, model.trainable_variables))\n",
        "\n",
        "        sum_reward += reward\n",
        "        total_sum_reward += reward\n",
        "        break\n",
        "\n",
        "      ## < ----------  Choose A' from S' using epsilon greedy policy   ---------- >\n",
        "      rand = random.random()\n",
        "      if rand < 1-current_epsilon: \n",
        "        next_action = np.argmax(np.argmax(model(next_state)))\n",
        "      else:\n",
        "        next_action = np.random.choice(np.arange(actionSpaceSize))\n",
        "\n",
        "      future_reward = model(next_state)\n",
        "      next_action_mask = tf.one_hot(next_action, actionSpaceSize)\n",
        "      target_q = reward + gamma * tf.reduce_sum(tf.multiply(future_reward, next_action_mask), axis=1)\n",
        "\n",
        "      action_mask = tf.one_hot(action, actionSpaceSize)\n",
        "\n",
        "      with tf.GradientTape() as tape:\n",
        "        tape.watch(model.trainable_variables)\n",
        "        q_value = model(state)\n",
        "        q_value_mask = tf.reduce_sum(tf.multiply(q_value, action_mask), axis=1)\n",
        "        ppError = f_ppError(target_q,q_value_mask)\n",
        "      #if (i+1) % 50 == 0:\n",
        "      #  print(\"Error: %f\" % float(ppError))\n",
        "\n",
        "      grads = tape.gradient(ppError,model.trainable_variables)\n",
        "      optimizer.apply_gradients(zip(grads, model.trainable_variables))\n",
        "\n",
        "      #Q[state][action] = Q[state][action] + alpha*(reward+gamma*Q[next_state][next_action]-Q[state][action])\n",
        "\n",
        "      state = next_state\n",
        "      action = next_action\n",
        "      sum_reward += reward\n",
        "      total_sum_reward += reward\n",
        "\n",
        "    if (e+1) % 10 == 0:\n",
        "      #print(sum_reward)\n",
        "      avg = int(sum_reward.numpy())/10\n",
        "      print(\"For episode\",e+1,\"Average Reward:\", avg)\n",
        "      avg_reward.append(avg)\n",
        "      sum_reward = 0\n",
        "  \n",
        "  l = np.arange(10, max_episodes+1, 10).tolist()\n",
        "  plt.plot(l,avg_reward)\n",
        "  plt.xlabel(\"Episodes\")\n",
        "  plt.ylabel(\"Average Reward\")\n",
        "\n",
        "  print(\"Max Average Reward is\", np.max(avg_reward), \"Total Average Reward is\", int(total_sum_reward.numpy())/max_episodes)\n",
        "\n",
        "  return model"
      ],
      "metadata": {
        "id": "v5rT836DhqMS"
      },
      "execution_count": null,
      "outputs": []
    },
    {
      "cell_type": "code",
      "source": [
        "Q = Semi_Gradient_On_Policy_Sarsa(env, 500, 0.001, 0.9, 0.8)"
      ],
      "metadata": {
        "colab": {
          "base_uri": "https://localhost:8080/"
        },
        "id": "dNOwokpUX69D",
        "outputId": "20c3b531-ef09-4aac-d126-3a9effa12e9f"
      },
      "execution_count": null,
      "outputs": [
        {
          "output_type": "stream",
          "name": "stdout",
          "text": [
            "Error: 0.854662\n",
            "Error: 0.958420\n",
            "Error: 0.948844\n",
            "Error: 0.899442\n",
            "Error: 0.821046\n",
            "Error: 0.732727\n",
            "Error: 0.773198\n",
            "Error: 0.726907\n",
            "Error: 0.734672\n",
            "Error: 1.783482\n",
            "Error: 0.136724\n",
            "Error: 0.004005\n",
            "Error: 5.176349\n",
            "Error: 0.258757\n",
            "Error: 0.357374\n",
            "Error: 0.085771\n",
            "Error: 0.081509\n",
            "Error: 0.505699\n",
            "Error: 0.031009\n",
            "Error: 0.000804\n",
            "Error: 0.302266\n",
            "Error: 0.000317\n",
            "Error: 0.001367\n",
            "Error: 0.056773\n",
            "Error: 0.002331\n",
            "Error: 0.004261\n",
            "Error: 0.003091\n",
            "Error: 0.002539\n",
            "Error: 0.000002\n",
            "Error: 0.009995\n"
          ]
        }
      ]
    },
    {
      "cell_type": "markdown",
      "source": [
        "**By tracking the gradient ppError, we can see that the error keep going down which means the network is learning.**"
      ],
      "metadata": {
        "id": "u1DTWtaPY9Nb"
      }
    },
    {
      "cell_type": "code",
      "source": [
        "Q = Semi_Gradient_On_Policy_Sarsa(env, 500, 0.001, 0.9, 0.8)"
      ],
      "metadata": {
        "colab": {
          "base_uri": "https://localhost:8080/",
          "height": 297
        },
        "id": "RPk6Mp6cVzUS",
        "outputId": "d171fcec-2cc0-46fe-c04a-54c952c7d2b7"
      },
      "execution_count": null,
      "outputs": [
        {
          "output_type": "stream",
          "name": "stdout",
          "text": [
            "Max Average Reward is -170.09 Total Average Reward is -194.9232\n"
          ]
        },
        {
          "output_type": "display_data",
          "data": {
            "text/plain": [
              "<Figure size 432x288 with 1 Axes>"
            ],
            "image/png": "[encoded data removed]"
          },
          "metadata": {
            "needs_background": "light"
          }
        }
      ]
    },
    {
      "cell_type": "markdown",
      "source": [
        "**After 500 episodes, we find that the reward start to raise after 300 episodes, which is much faster than n_step_Sarsa showed in previous part.**"
      ],
      "metadata": {
        "id": "Q19QcB48ZMlK"
      }
    }
  ]
}