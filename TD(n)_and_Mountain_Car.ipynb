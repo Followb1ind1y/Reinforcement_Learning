{
  "cells": [
    {
      "cell_type": "markdown",
      "metadata": {
        "id": "PsdMthK-GQQj"
      },
      "source": [
        "## **Reinforcement Learning: TD(n) and Mountain Car**"
      ]
    },
    {
      "cell_type": "code",
      "execution_count": null,
      "metadata": {
        "id": "bAkjY0BhGsdu"
      },
      "outputs": [],
      "source": [
        "!apt-get install -y xvfb python-opengl > /dev/null 2>&1"
      ]
    },
    {
      "cell_type": "code",
      "execution_count": null,
      "metadata": {
        "id": "jcqzFXVzGuQS"
      },
      "outputs": [],
      "source": [
        "!pip install gym pyvirtualdisplay > /dev/null 2>&1"
      ]
    },
    {
      "cell_type": "code",
      "execution_count": null,
      "metadata": {
        "id": "g2s5IeLLGwhS"
      },
      "outputs": [],
      "source": [
        "import gym\n",
        "import numpy as np\n",
        "import matplotlib.pyplot as plt\n",
        "from IPython import display as ipythondisplay\n",
        "from collections import defaultdict\n",
        "import math\n",
        "import random"
      ]
    },
    {
      "cell_type": "code",
      "execution_count": null,
      "metadata": {
        "colab": {
          "base_uri": "https://localhost:8080/"
        },
        "id": "e-yu3U1HG0wH",
        "outputId": "4969a3ab-08de-44de-ace9-b5dc2c077a35"
      },
      "outputs": [
        {
          "output_type": "execute_result",
          "data": {
            "text/plain": [
              "<pyvirtualdisplay.display.Display at 0x7ff89aa277d0>"
            ]
          },
          "metadata": {},
          "execution_count": 4
        }
      ],
      "source": [
        "from pyvirtualdisplay import Display\n",
        "display = Display(visible=0, size=(400, 300))\n",
        "display.start()"
      ]
    },
    {
      "cell_type": "code",
      "execution_count": null,
      "metadata": {
        "id": "jFJ2Tlg6GUTp"
      },
      "outputs": [],
      "source": [
        "env = gym.make('MountainCar-v0')"
      ]
    },
    {
      "cell_type": "code",
      "execution_count": null,
      "metadata": {
        "colab": {
          "base_uri": "https://localhost:8080/"
        },
        "id": "2RuIUzh3GgfU",
        "outputId": "6b7bd3cf-ad56-45d1-fe69-982e89b4c337"
      },
      "outputs": [
        {
          "output_type": "stream",
          "name": "stdout",
          "text": [
            "Box(-1.2000000476837158, 0.6000000238418579, (2,), float32)\n"
          ]
        }
      ],
      "source": [
        "# StateSpace : {Car Position, Car Velocity}\n",
        "stateSpaceSize = env.observation_space\n",
        "print(stateSpaceSize)"
      ]
    },
    {
      "cell_type": "code",
      "execution_count": null,
      "metadata": {
        "colab": {
          "base_uri": "https://localhost:8080/"
        },
        "id": "nqPwudIBHxtp",
        "outputId": "b6c02628-ac19-4a82-e533-2145757364b7"
      },
      "outputs": [
        {
          "output_type": "stream",
          "name": "stdout",
          "text": [
            "3\n"
          ]
        }
      ],
      "source": [
        "# ActionSpace: {0: Left, 1: Stop, 2: Right}\n",
        "actionSpaceSize = env.action_space.n\n",
        "print(actionSpaceSize)"
      ]
    },
    {
      "cell_type": "code",
      "source": [
        "def round_state(state) :\n",
        "  state[0] = round(state[0],1)\n",
        "  state[1] = round(state[1],2)\n",
        "  return state"
      ],
      "metadata": {
        "id": "pxW72pVPv9yP"
      },
      "execution_count": null,
      "outputs": []
    },
    {
      "cell_type": "code",
      "source": [
        "env.reset()\n",
        "action = env.action_space.sample()\n",
        "obs, reward, done, info = env.step(action)\n",
        "print(\"obs=\",obs,\"reward=\",reward,\"done=\",done,\"info=\",info)\n",
        "\n",
        "state = tuple(round_state(obs))\n",
        "Q = defaultdict(lambda: np.zeros(actionSpaceSize))\n",
        "Q[state][action] = 1\n",
        "Q"
      ],
      "metadata": {
        "colab": {
          "base_uri": "https://localhost:8080/"
        },
        "id": "G61FIf2OwBJB",
        "outputId": "80ccd8d9-c241-4227-baf5-d7059a5a18d6"
      },
      "execution_count": null,
      "outputs": [
        {
          "output_type": "stream",
          "name": "stdout",
          "text": [
            "obs= [-0.40524973 -0.00087524] reward= -1.0 done= False info= {}\n"
          ]
        },
        {
          "output_type": "execute_result",
          "data": {
            "text/plain": [
              "defaultdict(<function __main__.<lambda>>, {(-0.4, -0.0): array([0., 1., 0.])})"
            ]
          },
          "metadata": {},
          "execution_count": 9
        }
      ]
    },
    {
      "cell_type": "code",
      "execution_count": null,
      "metadata": {
        "colab": {
          "base_uri": "https://localhost:8080/"
        },
        "id": "OHOaAE6qH1_K",
        "outputId": "1ba4facb-76f8-4b64-bd33-15fa9f59364e"
      },
      "outputs": [
        {
          "output_type": "stream",
          "name": "stdout",
          "text": [
            "Iterations that were run: 199 Sum Reward is -200.0\n"
          ]
        }
      ],
      "source": [
        "env = gym.make('MountainCar-v0')\n",
        "env.reset()\n",
        "sum_reward = 0\n",
        "\n",
        "for i in range(200):\n",
        "  action = env.action_space.sample()\n",
        "  # print(\"step i\",i,\"action=\",action)\n",
        "  obs, reward, done, info = env.step(action)\n",
        "  # print(\"obs=\",obs,\"reward=\",reward,\"done=\",done,\"info=\",info)\n",
        "  sum_reward += reward\n",
        "\n",
        "  if done:\n",
        "    break\n",
        "    \n",
        "env.close()\n",
        "print(\"Iterations that were run:\",i, \"Sum Reward is\", sum_reward)"
      ]
    },
    {
      "cell_type": "code",
      "execution_count": null,
      "metadata": {
        "id": "EgTpkmmeKeZO"
      },
      "outputs": [],
      "source": [
        "def test_alg(Q) :\n",
        "  env = gym.make(\"MountainCar-v0\")\n",
        "  env.reset()\n",
        "  sum_reward = 0\n",
        "\n",
        "  for k in range(100) :\n",
        "    state = env.reset()\n",
        "    state = tuple(round_state(state))\n",
        "\n",
        "    for i in range(200):\n",
        "      action = np.argmax(Q[state])\n",
        "      obs, reward, done, info = env.step(action)\n",
        "      next_state = tuple(round_state(obs))\n",
        "      state = next_state\n",
        "      sum_reward += reward\n",
        "  \n",
        "      if done:\n",
        "        break\n",
        "\n",
        "    env.close()\n",
        "\n",
        "  avg_reward = sum_reward /100\n",
        "  #print(\"Average iterations that were run:\",avg_iter)\n",
        "  return avg_reward"
      ]
    },
    {
      "cell_type": "code",
      "execution_count": null,
      "metadata": {
        "id": "ROylQpyvJZk7"
      },
      "outputs": [],
      "source": [
        "def generate_episode(env,episode) :\n",
        "  state = env.reset()\n",
        "  state = tuple(round_state(state))\n",
        "  action = np.random.choice(np.arange(actionSpaceSize))\n",
        "  high_pos = -0.5\n",
        "\n",
        "  for i in range(50000):\n",
        "    next_state, reward, done, info = env.step(action)\n",
        "    next_state = tuple(round_state(next_state))\n",
        "    next_action = np.random.choice(np.arange(actionSpaceSize))\n",
        "\n",
        "    if next_state[0] > high_pos :\n",
        "      high_pos = next_state[0]\n",
        "      reward = 10\n",
        "\n",
        "    episode.append((state, action, reward))\n",
        "    state = next_state\n",
        "    action = next_action\n",
        "    if done:\n",
        "      break"
      ]
    },
    {
      "cell_type": "code",
      "execution_count": null,
      "metadata": {
        "id": "Xa5wnLW7KhYF"
      },
      "outputs": [],
      "source": [
        "def off_MC_control(env, max_episodes,gamma):\n",
        "  ## initial Q, C\n",
        "  Q = defaultdict(lambda: np.zeros(actionSpaceSize))\n",
        "  C = defaultdict(lambda: np.zeros(actionSpaceSize))\n",
        "  avg_reward = []\n",
        "\n",
        "  ## Loop forever\n",
        "  for eps in range(max_episodes) :\n",
        "    # for any soft policy\n",
        "    b = np.ones(actionSpaceSize) / actionSpaceSize\n",
        "    # generate an episode, where T = 500\n",
        "    episode = []\n",
        "    generate_episode(env,episode)\n",
        "\n",
        "    G = 0\n",
        "    W = 1\n",
        "\n",
        "    # loop for each episode, t = T-1,T-2,...,0\n",
        "    for t in range(len(episode)-1, -1, -1):\n",
        "      state, action, reward = episode[t]\n",
        "      G = gamma * G + reward # gamma * G + R_{t+1}\n",
        "      C[state][action] = C[state][action] + W  # C + W\n",
        "      Q[state][action] = Q[state][action] + (G-Q[state][action])*(W/C[state][action])\n",
        "      pi_S_t = np.argmax(Q[state])\n",
        "      # exit inner loop to next episode\n",
        "      if action !=  pi_S_t:\n",
        "        break\n",
        "      W = W * 1./b[action]\n",
        "    \n",
        "    if eps % 100 == 0:\n",
        "      avg = test_alg(Q)\n",
        "      avg_reward.append(avg)\n",
        "      #print(\"For episode\",eps,\"Average Reward is\",avg)\n",
        "  \n",
        "  l = np.arange(100, max_episodes+1, 100).tolist()\n",
        "  plt.plot(l,avg_reward)\n",
        "  plt.xlabel(\"Episodes\")\n",
        "  plt.ylabel(\"Average Reward\")\n",
        "\n",
        "  print(\"Max Average Reward is\", np.max(avg_reward))\n",
        "\n",
        "  return Q"
      ]
    },
    {
      "cell_type": "code",
      "execution_count": null,
      "metadata": {
        "colab": {
          "base_uri": "https://localhost:8080/",
          "height": 297
        },
        "id": "KINFcArkKqSu",
        "outputId": "c270b4c2-b089-465f-e02a-a578b7d21887"
      },
      "outputs": [
        {
          "output_type": "stream",
          "name": "stdout",
          "text": [
            "Max Average Reward is -200.0\n"
          ]
        },
        {
          "output_type": "display_data",
          "data": {
            "text/plain": [
              "<Figure size 432x288 with 1 Axes>"
            ],
            "image/png": "[encoded data removed]"
          },
          "metadata": {
            "needs_background": "light"
          }
        }
      ],
      "source": [
        "Q = off_MC_control(env, 10000, 0.9)"
      ]
    },
    {
      "cell_type": "markdown",
      "source": [
        "**The average reward stay at -200 after 10000 episodes which means the MC controller still not learning greatly.**"
      ],
      "metadata": {
        "id": "9dwi89VDNJmr"
      }
    },
    {
      "cell_type": "code",
      "source": [
        "# Round State 0 to [-1.2, -1.1, ..., 0.5, 0.6] -> 19\n",
        "# Round State 1 to [-0.07, -0.06, ..., 0.06, 0.07] -> 15\n",
        "\n",
        "def round_state(state) :\n",
        "  state[0] = round(state[0],1)\n",
        "  state[1] = round(state[1],2)\n",
        "  return state"
      ],
      "metadata": {
        "id": "7vO0mtiSyvYw"
      },
      "execution_count": null,
      "outputs": []
    },
    {
      "cell_type": "code",
      "source": [
        "# Uniformly initial the Q for all the States\n",
        "\n",
        "def initial_Q(Q):\n",
        "  current_state_zero = -1.2\n",
        "  for i in range (19) :\n",
        "    current_state_one = -0.07\n",
        "    for k in range (15) :\n",
        "      Q[(round(current_state_zero,1),round(current_state_one,2))] = np.random.uniform(-1,1,3)\n",
        "      current_state_one += 0.01\n",
        "    current_state_zero += 0.1\n",
        "  return Q"
      ],
      "metadata": {
        "id": "TksHHCJwyeu6"
      },
      "execution_count": null,
      "outputs": []
    },
    {
      "cell_type": "markdown",
      "metadata": {
        "id": "bxPrhnVNM0uq"
      },
      "source": [
        "* **on-policy SARSA** "
      ]
    },
    {
      "cell_type": "code",
      "execution_count": null,
      "metadata": {
        "id": "0dJLdKGTKr3h"
      },
      "outputs": [],
      "source": [
        "def On_Policy_Sarsa(env, max_episodes, alpha, gamma, epsilon):\n",
        "  ## initial Q\n",
        "  Q = initial_Q({})\n",
        "  sum_reward = 0\n",
        "  total_sum_reward = 0\n",
        "  avg_reward = []\n",
        "\n",
        "  ## Loop for each episode\n",
        "  for e in range(max_episodes) :\n",
        "\n",
        "    state = env.reset()\n",
        "    state = tuple(round_state(state))\n",
        "\n",
        "    ## Update the epsilon, we tend to explore at the beginning \n",
        "    ## We reduce the epsilon to take the best action to explore more\n",
        "    current_epsilon = epsilon * (1 - e/max_episodes)\n",
        "\n",
        "    ## Choose A from S using epsilon greedy policy\n",
        "    rand = rand = random.random()\n",
        "    if rand < 1-current_epsilon: \n",
        "      action = np.argmax(Q[state])\n",
        "    else:\n",
        "      action = np.random.choice(np.arange(actionSpaceSize))\n",
        "\n",
        "    for i in range(200):\n",
        "      next_state, reward, done, info = env.step(action)\n",
        "      next_state = tuple(round_state(next_state))\n",
        "\n",
        "      ## Choose A' from S' using epsilon greedy policy\n",
        "      rand = rand = random.random()\n",
        "      if rand < 1-current_epsilon: \n",
        "        next_action = np.argmax(Q[next_state])\n",
        "      else:\n",
        "        next_action = np.random.choice(np.arange(actionSpaceSize))\n",
        "      \n",
        "      Q[state][action] = Q[state][action] + alpha*(reward+gamma*Q[next_state][next_action]-Q[state][action])\n",
        "\n",
        "      state = next_state\n",
        "      action = next_action\n",
        "      sum_reward += reward\n",
        "      total_sum_reward += reward\n",
        "\n",
        "      if done:\n",
        "        break\n",
        "\n",
        "    if (e+1) % 100 == 0:\n",
        "      avg = sum_reward/100\n",
        "      #print(\"For episode\",e+1,\"Average Reward:\", avg)\n",
        "      avg_reward.append(avg)\n",
        "      sum_reward = 0\n",
        "  \n",
        "  l = np.arange(100, max_episodes+1, 100).tolist()\n",
        "  plt.plot(l,avg_reward)\n",
        "  plt.xlabel(\"Episodes\")\n",
        "  plt.ylabel(\"Average Reward\")\n",
        "\n",
        "  print(\"Max Average Reward is\", np.max(avg_reward), \"Total Average Reward is\", total_sum_reward/max_episodes)\n",
        "\n",
        "  return Q"
      ]
    },
    {
      "cell_type": "code",
      "execution_count": null,
      "metadata": {
        "colab": {
          "base_uri": "https://localhost:8080/",
          "height": 297
        },
        "id": "EhzsViTJNDsh",
        "outputId": "6d9333c9-1921-48bf-fd73-eb75ad0c86c6"
      },
      "outputs": [
        {
          "output_type": "stream",
          "name": "stdout",
          "text": [
            "Max Average Reward is -173.88 Total Average Reward is -196.7844\n"
          ]
        },
        {
          "output_type": "display_data",
          "data": {
            "text/plain": [
              "<Figure size 432x288 with 1 Axes>"
            ],
            "image/png": "[encoded data removed]"
          },
          "metadata": {
            "needs_background": "light"
          }
        }
      ],
      "source": [
        "Q = On_Policy_Sarsa(env, 10000, 0.2, 0.9, 0.8)"
      ]
    },
    {
      "cell_type": "markdown",
      "source": [
        "**From the plot, we can see the reward start to raise after 5500 episodes. The max average reward reaches -180.24. The reward curve looks unstable in last 2000 episodes.**"
      ],
      "metadata": {
        "id": "MvkUMlxUK9aJ"
      }
    },
    {
      "cell_type": "markdown",
      "metadata": {
        "id": "6PDPQ4KgNXHD"
      },
      "source": [
        "* **on-policy expected SARSA**"
      ]
    },
    {
      "cell_type": "code",
      "source": [
        "def On_Policy_Exp_Sarsa(env, max_episodes, alpha, gamma, epsilon):\n",
        "  ## initial Q\n",
        "  Q = initial_Q({})\n",
        "  sum_reward = 0\n",
        "  avg_reward = []\n",
        "\n",
        "  ## Loop for each episode\n",
        "  for e in range(max_episodes) :\n",
        "\n",
        "    state = env.reset()\n",
        "    state = tuple(round_state(state))\n",
        "\n",
        "    ## Update the epsilon, we tend to explore at the beginning \n",
        "    ## We reduce the epsilon to take the best action to explore more\n",
        "    current_epsilon = epsilon * (1 - e/max_episodes)\n",
        "\n",
        "    ## Choose A from S using epsilon greedy policy\n",
        "    rand = rand = random.random()\n",
        "    if rand < 1-current_epsilon: \n",
        "      action = np.argmax(Q[state])\n",
        "    else:\n",
        "      action = np.random.choice(np.arange(actionSpaceSize))\n",
        "\n",
        "    for i in range(200):\n",
        "      next_state, reward, done, info = env.step(action)\n",
        "      next_state = tuple(round_state(next_state))\n",
        "\n",
        "      ## Choose A' from S' using epsilon greedy policy\n",
        "      rand = rand = random.random()\n",
        "      if rand < 1-current_epsilon: \n",
        "        next_action = np.argmax(Q[next_state])\n",
        "      else:\n",
        "        next_action = np.random.choice(np.arange(actionSpaceSize))\n",
        "      \n",
        "      exp_val = 0\n",
        "\n",
        "      for k in range(actionSpaceSize):\n",
        "        if k == next_action :\n",
        "          exp_val += (1-current_epsilon) * Q[next_state][k]\n",
        "        else:\n",
        "          exp_val += (current_epsilon/2) * Q[next_state][k]\n",
        "      \n",
        "      Q[state][action] = Q[state][action] + alpha*(reward+gamma*exp_val-Q[state][action])\n",
        "\n",
        "      state = next_state\n",
        "      action = next_action\n",
        "      sum_reward += reward\n",
        "\n",
        "      if done:\n",
        "        break\n",
        "\n",
        "    if (e+1) % 100 == 0:\n",
        "      avg = sum_reward/100\n",
        "      #print(\"For episode\",e+1,\"Average Reward:\", avg)\n",
        "      avg_reward.append(avg)\n",
        "      sum_reward = 0\n",
        "  \n",
        "  l = np.arange(100, max_episodes+1, 100).tolist()\n",
        "  plt.plot(l,avg_reward)\n",
        "  plt.xlabel(\"Episodes\")\n",
        "  plt.ylabel(\"Average Reward\")\n",
        "\n",
        "  print(\"Max Average Reward is\", np.max(avg_reward))\n",
        "\n",
        "  return Q"
      ],
      "metadata": {
        "id": "mTNr3KS1zxge"
      },
      "execution_count": null,
      "outputs": []
    },
    {
      "cell_type": "code",
      "source": [
        "Q = On_Policy_Exp_Sarsa(env, 10000, 0.2, 0.9, 0.8)"
      ],
      "metadata": {
        "colab": {
          "base_uri": "https://localhost:8080/",
          "height": 297
        },
        "id": "qp-v-7pD0K2k",
        "outputId": "fd6b9fff-0c07-41c8-de85-33f7588f5e63"
      },
      "execution_count": null,
      "outputs": [
        {
          "output_type": "stream",
          "name": "stdout",
          "text": [
            "Max Average Reward is -155.06\n"
          ]
        },
        {
          "output_type": "display_data",
          "data": {
            "text/plain": [
              "<Figure size 432x288 with 1 Axes>"
            ],
            "image/png": "[encoded data removed]"
          },
          "metadata": {
            "needs_background": "light"
          }
        }
      ]
    },
    {
      "cell_type": "markdown",
      "source": [
        "**From the plot, we can see the reward start to raise after 5000 episodes. The max average reward reaches -155.06 which is better than On policy Sarsa we showed above. The reward curve rise gradually after 8000 episodes.**"
      ],
      "metadata": {
        "id": "7x2U43BdL4Zf"
      }
    },
    {
      "cell_type": "markdown",
      "metadata": {
        "id": "aulf18F3Nf_S"
      },
      "source": [
        "* **off-policy expected SARSA with a greedy control policy**"
      ]
    },
    {
      "cell_type": "code",
      "source": [
        "def Off_Policy_Exp_Sarsa(env, max_episodes, alpha, gamma, epsilon):\n",
        "  ## initial Q\n",
        "  Q = initial_Q({})\n",
        "  sum_reward = 0\n",
        "  avg_reward = []\n",
        "\n",
        "  ## Loop for each episode\n",
        "  for e in range(max_episodes) :\n",
        "\n",
        "    state = env.reset()\n",
        "    state = tuple(round_state(state))\n",
        "\n",
        "    ## Update the epsilon, we tend to explore at the beginning \n",
        "    ## We reduce the epsilon to take the best action to explore more\n",
        "    current_epsilon = epsilon * (1 - e/max_episodes)\n",
        "\n",
        "\n",
        "    for i in range(200):\n",
        "    ## Choose A from S using epsilon greedy policy\n",
        "      rand = rand = random.random()\n",
        "      if rand < 1-current_epsilon: \n",
        "        action = np.argmax(Q[state])\n",
        "      else:\n",
        "        action = np.random.choice(np.arange(actionSpaceSize))\n",
        "\n",
        "      next_state, reward, done, info = env.step(action)\n",
        "      next_state = tuple(round_state(next_state))\n",
        "\n",
        "      next_action = np.argmax(Q[next_state])\n",
        "      exp_val = 0\n",
        "\n",
        "      for k in range(actionSpaceSize):\n",
        "        if k == next_action :\n",
        "          exp_val += (1-current_epsilon) * Q[next_state][k]\n",
        "        else:\n",
        "          exp_val += (current_epsilon/2) * Q[next_state][k]\n",
        "      \n",
        "      Q[state][action] = Q[state][action] + alpha*(reward+gamma*exp_val-Q[state][action])\n",
        "\n",
        "      state = next_state\n",
        "      sum_reward += reward\n",
        "\n",
        "      if done:\n",
        "        break\n",
        "\n",
        "    if (e+1) % 100 == 0:\n",
        "      avg = sum_reward/100\n",
        "      #print(\"For episode\",e+1,\"Average Reward:\", avg)\n",
        "      avg_reward.append(avg)\n",
        "      sum_reward = 0\n",
        "  \n",
        "  l = np.arange(100, max_episodes+1, 100).tolist()\n",
        "  plt.plot(l,avg_reward)\n",
        "  plt.xlabel(\"Episodes\")\n",
        "  plt.ylabel(\"Average Reward\")\n",
        "\n",
        "  print(\"Max Average Reward is\", np.max(avg_reward))\n",
        "\n",
        "  return Q"
      ],
      "metadata": {
        "id": "E2y-Yh7h1udl"
      },
      "execution_count": null,
      "outputs": []
    },
    {
      "cell_type": "code",
      "source": [
        "Q = Off_Policy_Exp_Sarsa(env, 10000, 0.2, 0.9, 0.8)"
      ],
      "metadata": {
        "colab": {
          "base_uri": "https://localhost:8080/",
          "height": 297
        },
        "id": "Luhotlpy2cZW",
        "outputId": "d49b72e7-bc11-4fc4-c42a-c6bcea75bec8"
      },
      "execution_count": null,
      "outputs": [
        {
          "output_type": "stream",
          "name": "stdout",
          "text": [
            "Max Average Reward is -146.35\n"
          ]
        },
        {
          "output_type": "display_data",
          "data": {
            "text/plain": [
              "<Figure size 432x288 with 1 Axes>"
            ],
            "image/png": "[encoded data removed]"
          },
          "metadata": {
            "needs_background": "light"
          }
        }
      ]
    },
    {
      "cell_type": "markdown",
      "source": [
        "**From the plot, we can see the reward start to raise after 5500 episodes. The max average reward reaches -146.35 which is the best for all TD(0) methods we tried. The reward curve rise rapidly at the end.**"
      ],
      "metadata": {
        "id": "eeBYIf9LMUpc"
      }
    },
    {
      "cell_type": "code",
      "source": [
        "from prettytable import PrettyTable\n",
        " \n",
        "myTable = PrettyTable([\"Controllers\", \"Max Average Reward\"])\n",
        " \n",
        "# Add rows\n",
        "myTable.add_row([\"TD(0) on-policy SARSA\", \"-173.88\"])\n",
        "myTable.add_row([\"TD(0) on-policy expected SARSA\", \"-155.06\"])\n",
        "myTable.add_row([\"TD(0) off-policy expected SARSA with a greedy control policy\", \"-146.35\"])\n",
        " \n",
        "print(myTable)"
      ],
      "metadata": {
        "colab": {
          "base_uri": "https://localhost:8080/"
        },
        "id": "q7MMM04rAqRV",
        "outputId": "353b0d2f-6874-4ad8-fa56-e39b15801827"
      },
      "execution_count": null,
      "outputs": [
        {
          "output_type": "stream",
          "name": "stdout",
          "text": [
            "+--------------------------------------------------------------+--------------------+\n",
            "|                         Controllers                          | Max Average Reward |\n",
            "+--------------------------------------------------------------+--------------------+\n",
            "|                    TD(0) on-policy SARSA                     |      -173.88       |\n",
            "|                TD(0) on-policy expected SARSA                |      -155.06       |\n",
            "| TD(0) off-policy expected SARSA with a greedy control policy |      -146.35       |\n",
            "+--------------------------------------------------------------+--------------------+\n"
          ]
        }
      ]
    },
    {
      "cell_type": "markdown",
      "source": [
        "**From the table, we can see that TD(0) off-policy expected SARSA with a greedy control policy has the best performance and perform not good.**"
      ],
      "metadata": {
        "id": "mninPgzxcrtt"
      }
    },
    {
      "cell_type": "code",
      "execution_count": null,
      "metadata": {
        "id": "Vi25NmoJLXnW"
      },
      "outputs": [],
      "source": [
        "def n_step_Sarsa(env, max_episodes, alpha, gamma, epsilon, n):\n",
        "  ## initial Q\n",
        "  Q = initial_Q({})\n",
        "  total_sum_reward = 0\n",
        "  sum_reward = 0\n",
        "  avg_reward = []\n",
        "\n",
        "  ## Loop for each episode\n",
        "  for e in range(max_episodes) :\n",
        "\n",
        "    state_list = []\n",
        "    action_list = []\n",
        "    reward_list = []\n",
        "\n",
        "    ## Initial the State 0\n",
        "    state = env.reset()\n",
        "    state = tuple(round_state(state))\n",
        "    state_list.append(state)\n",
        "    reward_list.append(-1)\n",
        "\n",
        "    ## Update the epsilon, we tend to explore at the beginning \n",
        "    ## We reduce the epsilon to take the best action to explore more\n",
        "    current_epsilon = epsilon * (1 - e/max_episodes)\n",
        "\n",
        "    ## Choose A from S using epsilon greedy policy\n",
        "    rand = rand = random.random()\n",
        "    if rand < 1-current_epsilon: \n",
        "      action = np.argmax(Q[state])\n",
        "    else:\n",
        "      action = np.random.choice(np.arange(actionSpaceSize))\n",
        "    \n",
        "    action_list.append(action)\n",
        "    T = math.inf\n",
        "\n",
        "    for t in range(199):\n",
        "      if t < T:\n",
        "        action = action_list[t]\n",
        "        next_state, reward, done, info = env.step(action)\n",
        "        next_state = tuple(round_state(next_state))\n",
        "\n",
        "        state_list.append(next_state)\n",
        "        reward_list.append(reward)\n",
        "\n",
        "        if done: T = t+1\n",
        "        else: \n",
        "          ## Choose A' from S' using epsilon greedy policy\n",
        "          rand = rand = random.random()\n",
        "          if rand < 1-current_epsilon: \n",
        "            next_action = np.argmax(Q[next_state])\n",
        "          else:\n",
        "            next_action = np.random.choice(np.arange(actionSpaceSize))\n",
        "\n",
        "          action_list.append(next_action)\n",
        "\n",
        "      tau = t - n + 1\n",
        "\n",
        "      if tau >=0:\n",
        "        G = 0\n",
        "        for i in range(int(np.min([T, tau+n])-(tau+1)+1)):\n",
        "          G+= gamma**(i)*reward_list[tau+1+i]\n",
        "        if tau+n < T: \n",
        "          G+=gamma**(n)* Q[state_list[tau+n]][action_list[tau+n]]\n",
        "        Q[state_list[tau]][action_list[tau]]+=alpha*(G-Q[state_list[tau]][action_list[tau]])\n",
        "      \n",
        "      sum_reward += reward\n",
        "      total_sum_reward += reward\n",
        "      \n",
        "      if tau == T-1: break\n",
        "\n",
        "    if (e+1) % 100 == 0:\n",
        "      avg = sum_reward/100\n",
        "      #print(\"For episode\",e+1,\"Average Reward:\", avg)\n",
        "      avg_reward.append(avg)\n",
        "      sum_reward = 0\n",
        "  \n",
        "  l = np.arange(100, max_episodes+1, 100).tolist()\n",
        "  plt.plot(l,avg_reward)\n",
        "  plt.xlabel(\"Episodes\")\n",
        "  plt.ylabel(\"Average Reward\")\n",
        "\n",
        "  print(\"Max Average Reward is\", np.max(avg_reward), \"Total Average Reward is\", total_sum_reward/max_episodes)\n",
        "\n",
        "  return Q"
      ]
    },
    {
      "cell_type": "markdown",
      "source": [
        "* **TD(2)**"
      ],
      "metadata": {
        "id": "GD5AU7Oc_iif"
      }
    },
    {
      "cell_type": "code",
      "source": [
        "Q = n_step_Sarsa(env, 10000, 0.2, 0.9, 0.8,2)"
      ],
      "metadata": {
        "colab": {
          "base_uri": "https://localhost:8080/",
          "height": 297
        },
        "id": "sJekXbE6YlQg",
        "outputId": "f25bd79f-baba-49d4-e6ec-565e3444d9b9"
      },
      "execution_count": null,
      "outputs": [
        {
          "output_type": "stream",
          "name": "stdout",
          "text": [
            "Max Average Reward is -160.03 Total Average Reward is -195.2688\n"
          ]
        },
        {
          "output_type": "display_data",
          "data": {
            "text/plain": [
              "<Figure size 432x288 with 1 Axes>"
            ],
            "image/png": "[encoded data removed]"
          },
          "metadata": {
            "needs_background": "light"
          }
        }
      ]
    },
    {
      "cell_type": "markdown",
      "source": [
        "* **TD(3)**"
      ],
      "metadata": {
        "id": "T9vF-2de_mz5"
      }
    },
    {
      "cell_type": "code",
      "source": [
        "Q = n_step_Sarsa(env, 10000, 0.2, 0.9, 0.8,3)"
      ],
      "metadata": {
        "colab": {
          "base_uri": "https://localhost:8080/",
          "height": 297
        },
        "id": "vBakYt6R2b3b",
        "outputId": "601bf32a-3ca0-4db4-c0a4-942fa582083a"
      },
      "execution_count": null,
      "outputs": [
        {
          "output_type": "stream",
          "name": "stdout",
          "text": [
            "Max Average Reward is -159.23 Total Average Reward is -194.4548\n"
          ]
        },
        {
          "output_type": "display_data",
          "data": {
            "text/plain": [
              "<Figure size 432x288 with 1 Axes>"
            ],
            "image/png": "[encoded data removed]"
          },
          "metadata": {
            "needs_background": "light"
          }
        }
      ]
    },
    {
      "cell_type": "markdown",
      "source": [
        "* **TD(4)**"
      ],
      "metadata": {
        "id": "NRQ8pw8E_oRv"
      }
    },
    {
      "cell_type": "code",
      "source": [
        "Q = n_step_Sarsa(env, 10000, 0.2, 0.9, 0.8,4)"
      ],
      "metadata": {
        "colab": {
          "base_uri": "https://localhost:8080/",
          "height": 297
        },
        "id": "fVuIPF7L2dBL",
        "outputId": "5fb37273-2272-4100-c8ec-e3eb55641ca8"
      },
      "execution_count": null,
      "outputs": [
        {
          "output_type": "stream",
          "name": "stdout",
          "text": [
            "Max Average Reward is -146.36 Total Average Reward is -194.2524\n"
          ]
        },
        {
          "output_type": "display_data",
          "data": {
            "text/plain": [
              "<Figure size 432x288 with 1 Axes>"
            ],
            "image/png": "[encoded data removed]"
          },
          "metadata": {
            "needs_background": "light"
          }
        }
      ]
    },
    {
      "cell_type": "code",
      "source": [
        "from prettytable import PrettyTable\n",
        " \n",
        "myTable = PrettyTable([\"Controllers\", \"Max Average Reward\", \"Total Average Reward\"])\n",
        " \n",
        "# Add rows\n",
        "myTable.add_row([\"TD(0)\", \"-173.88\", \"-196.7844\"])\n",
        "myTable.add_row([\"TD(2)\", \"-160.03\", \"-195.2688\"])\n",
        "myTable.add_row([\"TD(3)\", \"-159.23\", \"-194.4548\"])\n",
        "myTable.add_row([\"TD(4)\", \"-146.36\", \"-194.2524\"])\n",
        "\n",
        " \n",
        "print(myTable)"
      ],
      "metadata": {
        "colab": {
          "base_uri": "https://localhost:8080/"
        },
        "id": "AX4V4SDn_3Yx",
        "outputId": "4b112b8c-f0c3-4d93-a551-1362860fc2d7"
      },
      "execution_count": null,
      "outputs": [
        {
          "output_type": "stream",
          "name": "stdout",
          "text": [
            "+-------------+--------------------+----------------------+\n",
            "| Controllers | Max Average Reward | Total Average Reward |\n",
            "+-------------+--------------------+----------------------+\n",
            "|    TD(0)    |      -173.88       |      -196.7844       |\n",
            "|    TD(2)    |      -160.03       |      -195.2688       |\n",
            "|    TD(3)    |      -159.23       |      -194.4548       |\n",
            "|    TD(4)    |      -146.36       |      -194.2524       |\n",
            "+-------------+--------------------+----------------------+\n"
          ]
        }
      ]
    },
    {
      "cell_type": "markdown",
      "source": [
        "**From the table above, we find TD(4) has the best Max Average Reward and Total Average Reward. As n goes up, the reward gradually grows.**"
      ],
      "metadata": {
        "id": "xNzlePGudUCF"
      }
    }
  ],
  "metadata": {
    "accelerator": "GPU",
    "colab": {
      "collapsed_sections": [],
      "provenance": []
    },
    "kernelspec": {
      "display_name": "Python 3",
      "name": "python3"
    },
    "language_info": {
      "name": "python"
    }
  },
  "nbformat": 4,
  "nbformat_minor": 0
}